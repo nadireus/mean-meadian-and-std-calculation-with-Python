{
  "nbformat": 4,
  "nbformat_minor": 0,
  "metadata": {
    "colab": {
      "name": "calculate mean and median with Python.ipynb",
      "provenance": [],
      "collapsed_sections": [],
      "authorship_tag": "ABX9TyPqMAKg39eNVx1BGGFdOHxh",
      "include_colab_link": true
    },
    "kernelspec": {
      "name": "python3",
      "display_name": "Python 3"
    },
    "language_info": {
      "name": "python"
    }
  },
  "cells": [
    {
      "cell_type": "markdown",
      "metadata": {
        "id": "view-in-github",
        "colab_type": "text"
      },
      "source": [
        "<a href=\"https://colab.research.google.com/github/nadireus/mean-meadian-and-std-calculation-with-Python/blob/main/calculate_mean_and_median_with_Python.ipynb\" target=\"_parent\"><img src=\"https://colab.research.google.com/assets/colab-badge.svg\" alt=\"Open In Colab\"/></a>"
      ]
    },
    {
      "cell_type": "code",
      "metadata": {
        "id": "UYSpSfRO0tDm"
      },
      "source": [
        "import numpy as np \n"
      ],
      "execution_count": 1,
      "outputs": []
    },
    {
      "cell_type": "code",
      "metadata": {
        "id": "2RRh049P06n_"
      },
      "source": [
        "from scipy import stats"
      ],
      "execution_count": 2,
      "outputs": []
    },
    {
      "cell_type": "code",
      "metadata": {
        "id": "2L62EQWP1DKg"
      },
      "source": [
        "salary = [102, 33, 26, 27, 30, 33, 24]"
      ],
      "execution_count": 5,
      "outputs": []
    },
    {
      "cell_type": "code",
      "metadata": {
        "colab": {
          "base_uri": "https://localhost:8080/"
        },
        "id": "QSTAsviU1Y34",
        "outputId": "4f303e2e-ae40-416a-ae6b-5c8bbaccdaf5"
      },
      "source": [
        "mean_salary = np.mean(salary)\n",
        "print(\"mean:\", mean_salary)"
      ],
      "execution_count": 6,
      "outputs": [
        {
          "output_type": "stream",
          "name": "stdout",
          "text": [
            "mean: 39.285714285714285\n"
          ]
        }
      ]
    },
    {
      "cell_type": "code",
      "metadata": {
        "colab": {
          "base_uri": "https://localhost:8080/"
        },
        "id": "CJh9POFl15w7",
        "outputId": "7d2dcd06-056e-4cc9-ef20-afb76ff4a314"
      },
      "source": [
        "median_salary = np.median(salary)\n",
        "print(\"median :\", median_salary)"
      ],
      "execution_count": 7,
      "outputs": [
        {
          "output_type": "stream",
          "name": "stdout",
          "text": [
            "median : 30.0\n"
          ]
        }
      ]
    },
    {
      "cell_type": "code",
      "metadata": {
        "colab": {
          "base_uri": "https://localhost:8080/"
        },
        "id": "661T5lOB2Uuc",
        "outputId": "deea3bce-003d-4b69-e80e-55f6239ea2a3"
      },
      "source": [
        "mode_salary = stats.mode(salary)\n",
        "print(\"mode : \", mode_salary)"
      ],
      "execution_count": 9,
      "outputs": [
        {
          "output_type": "stream",
          "name": "stdout",
          "text": [
            "mode :  ModeResult(mode=array([33]), count=array([2]))\n"
          ]
        }
      ]
    },
    {
      "cell_type": "code",
      "metadata": {
        "colab": {
          "base_uri": "https://localhost:8080/"
        },
        "id": "DlJWNL0Z3pFo",
        "outputId": "d2dc5652-6d65-4dbc-cbd6-9c86694bc83e"
      },
      "source": [
        "lista = [100, 55, 95, 150, 101, 99, 53, 57, 70]\n",
        "sorted(lista)\n",
        "np.median(lista)"
      ],
      "execution_count": 11,
      "outputs": [
        {
          "output_type": "execute_result",
          "data": {
            "text/plain": [
              "95.0"
            ]
          },
          "metadata": {},
          "execution_count": 11
        }
      ]
    },
    {
      "cell_type": "code",
      "metadata": {
        "colab": {
          "base_uri": "https://localhost:8080/"
        },
        "id": "7A8hbjTI8HB6",
        "outputId": "4d9f2f05-a7bb-4c79-a580-8663c3c5085c"
      },
      "source": [
        "print(\"Range :\", (np.max(salary)-np.min(salary)))"
      ],
      "execution_count": 12,
      "outputs": [
        {
          "output_type": "stream",
          "name": "stdout",
          "text": [
            "Range : 78\n"
          ]
        }
      ]
    },
    {
      "cell_type": "code",
      "metadata": {
        "colab": {
          "base_uri": "https://localhost:8080/"
        },
        "id": "bwXZ_ipp8kfv",
        "outputId": "5aad9edf-2077-46c9-b4f8-053e151eca77"
      },
      "source": [
        "print(\"Variance: \",(np.var(salary)))"
      ],
      "execution_count": 13,
      "outputs": [
        {
          "output_type": "stream",
          "name": "stdout",
          "text": [
            "Variance:  665.6326530612245\n"
          ]
        }
      ]
    },
    {
      "cell_type": "code",
      "metadata": {
        "colab": {
          "base_uri": "https://localhost:8080/"
        },
        "id": "LNdNBaYN8yn-",
        "outputId": "ea86aa89-16cd-499b-a370-88bea1d18d27"
      },
      "source": [
        "print(\"Std: \", (np.std(salary)))"
      ],
      "execution_count": 14,
      "outputs": [
        {
          "output_type": "stream",
          "name": "stdout",
          "text": [
            "Std:  25.799857617072703\n"
          ]
        }
      ]
    },
    {
      "cell_type": "code",
      "metadata": {
        "colab": {
          "base_uri": "https://localhost:8080/"
        },
        "id": "Aql-GlKLAXTI",
        "outputId": "c20e3c05-e4ec-4f5a-8f12-0a452ff19646"
      },
      "source": [
        "new_data = [1, 10, 7, 12, 0, 30, 15, 22, 8, 2]\n",
        "print(\"Std: \", (np.std(new_data)))"
      ],
      "execution_count": 15,
      "outputs": [
        {
          "output_type": "stream",
          "name": "stdout",
          "text": [
            "Std:  9.089004345911603\n"
          ]
        }
      ]
    },
    {
      "cell_type": "code",
      "metadata": {
        "colab": {
          "base_uri": "https://localhost:8080/"
        },
        "id": "dLj5wQOUA4pO",
        "outputId": "04b9f5d4-356a-4eca-977e-cd50db3907b8"
      },
      "source": [
        "data3 = [9, 11, 4, 14, 8, 2, 10, 3, 10, 9, 6, 0, 1]\n",
        "sorted(data3)\n"
      ],
      "execution_count": 16,
      "outputs": [
        {
          "output_type": "execute_result",
          "data": {
            "text/plain": [
              "[0, 1, 2, 3, 4, 6, 8, 9, 9, 10, 10, 11, 14]"
            ]
          },
          "metadata": {},
          "execution_count": 16
        }
      ]
    },
    {
      "cell_type": "code",
      "metadata": {
        "colab": {
          "base_uri": "https://localhost:8080/"
        },
        "id": "iRYLHdlHBKp_",
        "outputId": "ab2ec81e-db45-41cb-dcbf-66006fdfb159"
      },
      "source": [
        "np.median(data3)"
      ],
      "execution_count": 17,
      "outputs": [
        {
          "output_type": "execute_result",
          "data": {
            "text/plain": [
              "8.0"
            ]
          },
          "metadata": {},
          "execution_count": 17
        }
      ]
    },
    {
      "cell_type": "code",
      "metadata": {
        "colab": {
          "base_uri": "https://localhost:8080/"
        },
        "id": "KbTNsYlWBcR0",
        "outputId": "867e2c0f-d5e3-44ac-b0fe-9793a4564fea"
      },
      "source": [
        "data4 = [8, 10, 4, 24, 8, 3, 10, 3, 40, 7, 6, 12, 4]\n",
        "np.median(data3)\n",
        "sorted(data4)\n"
      ],
      "execution_count": 19,
      "outputs": [
        {
          "output_type": "execute_result",
          "data": {
            "text/plain": [
              "[3, 3, 4, 4, 6, 7, 8, 8, 10, 10, 12, 24, 40]"
            ]
          },
          "metadata": {},
          "execution_count": 19
        }
      ]
    },
    {
      "cell_type": "code",
      "metadata": {
        "id": "s9SIDO35Btbe"
      },
      "source": [
        ""
      ],
      "execution_count": null,
      "outputs": []
    }
  ]
}